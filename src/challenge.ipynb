{
 "cells": [
  {
   "cell_type": "markdown",
   "metadata": {},
   "source": [
    "En este archivo puedes escribir lo que estimes conveniente. Te recomendamos detallar tu solución y todas las suposiciones que estás considerando. Aquí puedes ejecutar las funciones que definiste en los otros archivos de la carpeta src, medir el tiempo, memoria, etc."
   ]
  },
  {
   "cell_type": "code",
   "metadata": {
    "ExecuteTime": {
     "end_time": "2024-04-11T12:10:28.949041Z",
     "start_time": "2024-04-11T12:10:28.941253Z"
    }
   },
   "source": [
    "file_path = \"farmers-protest-tweets-2021-2-4.json\"\n",
    "print(file_path)"
   ],
   "outputs": [
    {
     "name": "stdout",
     "output_type": "stream",
     "text": [
      "farmers-protest-tweets-2021-2-4.json\n"
     ]
    }
   ],
   "execution_count": 7
  },
  {
   "metadata": {
    "ExecuteTime": {
     "end_time": "2024-04-11T12:16:47.996251Z",
     "start_time": "2024-04-11T12:16:47.928074Z"
    }
   },
   "cell_type": "code",
   "source": [
    "import io\n",
    "import memory_profiler\n",
    "import sys\n",
    "\n",
    "from q1_memory import q1_memory, q1_memory_v2\n",
    "%load_ext memory_profiler\n",
    "json_path = '../resources/test.json'\n",
    "sys.stdout = memory_profiler.LogFile('memory_profile_log.log')\n",
    "%mprun -f q1_memory q1_memory(json_path)\n"
   ],
   "outputs": [],
   "execution_count": 16
  }
 ],
 "metadata": {
  "language_info": {
   "name": "python"
  },
  "orig_nbformat": 4,
  "kernelspec": {
   "name": "python3",
   "language": "python",
   "display_name": "Python 3 (ipykernel)"
  }
 },
 "nbformat": 4,
 "nbformat_minor": 2
}
