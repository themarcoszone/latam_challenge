{
 "cells": [
  {
   "cell_type": "markdown",
   "metadata": {},
   "source": [
    "En este archivo puedes escribir lo que estimes conveniente. Te recomendamos detallar tu solución y todas las suposiciones que estás considerando. Aquí puedes ejecutar las funciones que definiste en los otros archivos de la carpeta src, medir el tiempo, memoria, etc."
   ]
  },
  {
   "cell_type": "code",
   "metadata": {
    "ExecuteTime": {
     "end_time": "2024-04-12T17:11:19.587567Z",
     "start_time": "2024-04-12T17:11:19.122901Z"
    }
   },
   "source": [
    "file_path = \"../resources/farmers-protest-tweets-2021-2-4.json\"\n",
    "import matplotlib.pyplot as plt\n",
    "import memory_profiler\n",
    "from cProfile import Profile\n",
    "from pstats import Stats, SortKey\n",
    "\n",
    "def plot(x_values, y_values, x_label, y_label, title=''):\n",
    "    plt.plot(x_values, y_values, marker='o')\n",
    "    plt.xlabel(x_label)\n",
    "    plt.ylabel(y_label)\n",
    "    plt.title(title)\n",
    "    plt.grid(True)\n",
    "    plt.show()"
   ],
   "outputs": [],
   "execution_count": 2
  },
  {
   "metadata": {},
   "cell_type": "markdown",
   "source": [
    "For the first exercise q1_memory,  I've implemented two approaches. Lets run them in two different cells and decide what is the best\n",
    "1. For the first one\n",
    "- Get a list with all tuples (date, username)\n",
    "- Get top 10 of posted dates\n",
    "- Get top 1 user who posted in each day"
   ]
  },
  {
   "metadata": {},
   "cell_type": "code",
   "source": [
    "from q1_memory import q1_memory\n",
    "%load_ext memory_profiler\n",
    "%mprun -f q1_memory q1_memory(file_path)"
   ],
   "outputs": [],
   "execution_count": null
  },
  {
   "metadata": {},
   "cell_type": "code",
   "source": [
    "from q1_memory import q1_memory\n",
    "memory_usage = memory_profiler.memory_usage((q1_memory, (), {'file_path': file_path}))\n",
    "x_values = list(range(1, len(memory_usage) + 1))  \n",
    "# Plot the memory usage over time\n",
    "plot(x_values, memory_usage, 'Line number' ,'Memory usage (MiB)', 'Memory Usage Over Time')"
   ],
   "outputs": [],
   "execution_count": null
  },
  {
   "metadata": {},
   "cell_type": "markdown",
   "source": [
    "2. Second Approach:\n",
    "- Retrieve the top 10 dates.\n",
    "- Filter users who posted on those days.\n",
    "- For each day, identify the top user who posted on that day.\n",
    "Based on the results, this approach proves superior as it exclusively fetches the required dates while disregarding the remainder. "
   ]
  },
  {
   "metadata": {},
   "cell_type": "code",
   "source": [
    "from q1_memory import q1_memory_v2\n",
    "%load_ext memory_profiler\n",
    "%mprun -f q1_memory_v2 q1_memory_v2(file_path)"
   ],
   "outputs": [],
   "execution_count": null
  },
  {
   "metadata": {},
   "cell_type": "code",
   "source": [
    "from q1_memory import q1_memory_v2\n",
    "memory_usage = memory_profiler.memory_usage((q1_memory_v2, (), {'file_path': file_path}))\n",
    "x_values = list(range(1, len(memory_usage) + 1))  \n",
    "# Plot the memory usage over time\n",
    "plot(x_values, memory_usage, 'Line number' ,'Memory usage (MiB)', 'Memory Usage Over Time')"
   ],
   "outputs": [],
   "execution_count": null
  },
  {
   "metadata": {},
   "cell_type": "markdown",
   "source": [
    "Exercise 1 q1_time: This time, I've opted to utilize Pandas due to its utilization of NumPy under the hood. The NumPy library, partially written in C, significantly enhances performance compared to native Python, often by orders of magnitude.\n",
    "The following cell employs cProfile and pstats to execute q1_time and measure its execution time. I've chosen to display only the 15 functions with the longest execution times."
   ]
  },
  {
   "metadata": {},
   "cell_type": "code",
   "source": [
    "from q1_time import q1_time\n",
    "\n",
    "with Profile() as profile:\n",
    "    q1_time(file_path)\n",
    "    (\n",
    "     Stats(profile)\n",
    "     .strip_dirs()\n",
    "     .sort_stats(SortKey.TIME)\n",
    "     .print_stats(15)\n",
    "    )"
   ],
   "outputs": [],
   "execution_count": null
  },
  {
   "metadata": {},
   "cell_type": "markdown",
   "source": [
    "Exercise 2: \n",
    "Memory problem: To solve this exercise I've decided to use to external libraries emoji and regex. The last allows to find grapheme clusters occurrences"
   ]
  },
  {
   "metadata": {},
   "cell_type": "code",
   "source": [
    "from q2_memory import q2_memory\n",
    "%reload_ext memory_profiler\n",
    "%mprun -f q2_memory q2_memory(file_path)"
   ],
   "outputs": [],
   "execution_count": null
  },
  {
   "metadata": {},
   "cell_type": "code",
   "source": [
    "from q2_memory import q2_memory\n",
    "memory_usage = memory_profiler.memory_usage((q2_memory, (), {'file_path': file_path}))\n",
    "x_values = list(range(1, len(memory_usage) + 1))  \n",
    "# Plot the memory usage over time\n",
    "plot(x_values, memory_usage, 'Line number' ,'Memory usage (MiB)', 'Memory Usage Over Time')"
   ],
   "outputs": [],
   "execution_count": null
  },
  {
   "metadata": {},
   "cell_type": "markdown",
   "source": "Exercise 2: Time problem. "
  },
  {
   "metadata": {},
   "cell_type": "markdown",
   "source": "A first approach that I've tried to use was with Pandas. But this solution is suboptimal compared with the implemented in q2_time similar to q2_memory but loading the complete file instead to use generator"
  },
  {
   "metadata": {
    "ExecuteTime": {
     "end_time": "2024-04-12T17:11:45.360657Z",
     "start_time": "2024-04-12T17:11:25.089828Z"
    }
   },
   "cell_type": "code",
   "source": [
    "from q2_time import q2_time_v2\n",
    "\n",
    "with Profile() as profile:\n",
    "    q2_time_v2(file_path)\n",
    "    (\n",
    "     Stats(profile)\n",
    "     .strip_dirs()\n",
    "     .sort_stats(SortKey.TIME)\n",
    "     .print_stats(15)\n",
    "    )\n"
   ],
   "outputs": [
    {
     "name": "stdout",
     "output_type": "stream",
     "text": [
      "         19600715 function calls (19599781 primitive calls) in 19.788 seconds\n",
      "\n",
      "   Ordered by: internal time\n",
      "   List reduced from 1030 to 15 due to restriction <15>\n",
      "\n",
      "   ncalls  tottime  percall  cumtime  percall filename:lineno(function)\n",
      "        1    4.638    4.638    4.673    4.673 {built-in method pandas._libs.json.ujson_loads}\n",
      "   117407    4.257    0.000    4.257    0.000 {method 'findall' of '_regex.Pattern' objects}\n",
      "   117407    2.760    0.000    5.088    0.000 q2_time.py:32(<listcomp>)\n",
      " 16364431    2.329    0.000    2.329    0.000 core.py:316(is_emoji)\n",
      "   117407    0.599    0.000    0.603    0.000 regex.py:476(<setcomp>)\n",
      "        1    0.488    0.488    0.732    0.732 {method 'read' of '_io.TextIOWrapper' objects}\n",
      "       22    0.396    0.018    0.396    0.018 {method 'split' of 'str' objects}\n",
      "   117407    0.347    0.000    1.785    0.000 regex.py:449(_compile)\n",
      "   234830    0.268    0.000    0.624    0.000 enum.py:986(__and__)\n",
      "        1    0.247    0.247    0.663    0.663 _json.py:971(_combine_lines)\n",
      "        1    0.244    0.244    0.244    0.244 {built-in method _codecs.utf_8_decode}\n",
      "       13    0.232    0.018    0.363    0.028 managers.py:2274(_merge_blocks)\n",
      "        1    0.226    0.226    0.342    0.342 construction.py:891(_list_of_dict_to_arrays)\n",
      "   117410    0.197    0.000    0.197    0.000 {method 'strip' of 'str' objects}\n",
      "       36    0.176    0.005    0.176    0.005 {method 'join' of 'str' objects}\n",
      "\n",
      "\n"
     ]
    }
   ],
   "execution_count": 3
  },
  {
   "metadata": {},
   "cell_type": "markdown",
   "source": "This solution improves the execution time compared with the use of pandas"
  },
  {
   "metadata": {},
   "cell_type": "code",
   "source": [
    "from q2_time import q2_time\n",
    "\n",
    "with Profile() as profile:\n",
    "    q2_time(file_path)\n",
    "    (\n",
    "     Stats(profile)\n",
    "     .strip_dirs()\n",
    "     .sort_stats(SortKey.TIME)\n",
    "     .print_stats(15)\n",
    "    )"
   ],
   "outputs": [],
   "execution_count": null
  }
 ],
 "metadata": {
  "language_info": {
   "name": "python"
  },
  "orig_nbformat": 4,
  "kernelspec": {
   "name": "python3",
   "language": "python",
   "display_name": "Python 3 (ipykernel)"
  }
 },
 "nbformat": 4,
 "nbformat_minor": 2
}
